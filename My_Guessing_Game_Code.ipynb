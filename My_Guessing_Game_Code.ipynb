{
 "cells": [
  {
   "cell_type": "markdown",
   "metadata": {},
   "source": [
    "# Guessing Game Challenge\n",
    "\n",
    "Let's use `while` loops to create a guessing game.\n",
    "\n",
    "The Challenge:\n",
    "\n",
    "Write a program that picks a random integer from 1 to 100, and has players guess the number. The rules are:\n",
    "\n",
    "1. If a player's guess is less than 1 or greater than 100, say \"OUT OF BOUNDS\"\n",
    "2. On a player's first turn, if their guess is\n",
    " * within 10 of the number, return \"WARM!\"\n",
    " * further than 10 away from the number, return \"COLD!\"\n",
    "3. On all subsequent turns, if a guess is \n",
    " * closer to the number than the previous guess return \"WARMER!\"\n",
    " * farther from the number than the previous guess, return \"COLDER!\"\n",
    "4. When the player's guess equals the number, tell them they've guessed correctly *and* how many guesses it took!\n",
    "\n",
    "You can try this from scratch, or follow the steps outlined below. A separate Solution notebook has been provided. Good luck!\n"
   ]
  },
  {
   "cell_type": "markdown",
   "metadata": {},
   "source": [
    "# Note:\n",
    "\n",
    "`while True:`\n",
    "<br>The important point here is that `while` loop can be run on any set of instructions with the boolean condition `True`\n",
    "This was not shared during the training lecture which used a counter to create a logical statement for running the `while` loop statement \n",
    "\n"
   ]
  },
  {
   "cell_type": "markdown",
   "metadata": {},
   "source": [
    "Another important learning from this game was to think of the sequence of actions that will happen and write the code in the **same sequence**"
   ]
  },
  {
   "cell_type": "markdown",
   "metadata": {},
   "source": [
    "#### First, pick a random integer from 1 to 100 using the random module and assign it to a variable\n",
    "\n",
    "Note: `random.randint(a,b)` returns a random integer in range `[a, b]`, including both end points."
   ]
  },
  {
   "cell_type": "code",
   "execution_count": 1,
   "metadata": {},
   "outputs": [
    {
     "name": "stdout",
     "output_type": "stream",
     "text": [
      "51\n"
     ]
    }
   ],
   "source": [
    "from random import randint\n",
    "main = randint(1,100)\n",
    "print(main)"
   ]
  },
  {
   "cell_type": "markdown",
   "metadata": {},
   "source": [
    "#### Next, print an introduction to the game and explain the rules"
   ]
  },
  {
   "cell_type": "code",
   "execution_count": null,
   "metadata": {},
   "outputs": [],
   "source": [
    "print(\"WELCOME TO GUESS ME!\")\n",
    "print(\"I'm thinking of a number between 1 and 100\")\n",
    "print(\"If your guess is more than 10 away from my number, I'll tell you you're COLD\")\n",
    "print(\"If your guess is within 10 of my number, I'll tell you you're WARM\")\n",
    "print(\"If your guess is farther than your most recent guess, I'll say you're getting COLDER\")\n",
    "print(\"If your guess is closer than your most recent guess, I'll say you're getting WARMER\")\n",
    "print(\"LET'S PLAY!\")\n",
    "\n",
    "# Instructions for the players"
   ]
  },
  {
   "cell_type": "markdown",
   "metadata": {},
   "source": [
    "#### Create a list to store guesses\n",
    "\n",
    "Hint: zero is a good placeholder value. It's useful because it evaluates to \"False\""
   ]
  },
  {
   "cell_type": "markdown",
   "metadata": {},
   "source": [
    "#### Write a `while` loop that asks for a valid guess. Test it a few times to make sure it works."
   ]
  },
  {
   "cell_type": "code",
   "execution_count": 7,
   "metadata": {
    "scrolled": true
   },
   "outputs": [
    {
     "name": "stdout",
     "output_type": "stream",
     "text": [
      "Enter your guess: 51\n",
      "Correct\n",
      "You have guessed it in 1 guesses\n"
     ]
    }
   ],
   "source": [
    "guesslist = [0]\n",
    "difflist =[0]\n",
    "\n",
    "# Using the guesslist and difflist helps to create a counter to reference and capture guesses\n",
    "\n",
    "# Adding the above list inside the while loop continusly resets the loop to [0] <br>\n",
    "# which was impacting the guesslist[-2] function <br>\n",
    "# it was always reading the guesslist as [0]\n",
    "\n",
    "while True:\n",
    "    \n",
    "    entry = input (\"Enter your guess: \")\n",
    "    matchvalue = int(entry)\n",
    "        \n",
    "    if matchvalue == main:\n",
    "        print ('Correct')\n",
    "        print (f'You have guessed it in {len(guesslist)} guesses')\n",
    "        break\n",
    "    # the break function is used to break the while loop and close the generation of input entry\n",
    "        \n",
    "    guesslist.append(matchvalue)\n",
    "    \n",
    "    diff = abs(matchvalue - main)\n",
    "    difflist.append(diff)\n",
    "        \n",
    "    if matchvalue < 1 or matchvalue > 100:\n",
    "        print ('Out of Bounds! Please try again!!')\n",
    "        continue\n",
    "    # Using the If and Continue allows the function to loop back to the entry <br>\n",
    "    # step rather than continuing to the steps below\n",
    "    \n",
    "    if guesslist[-2]!= 0:\n",
    "        if diff<difflist[-2]:\n",
    "            print(\"Warmer!\")\n",
    "        else:\n",
    "            print(\"Colder!!\")\n",
    "    else:\n",
    "        if diff<=10:\n",
    "            print ('Warm!')\n",
    "        else:\n",
    "            print ('Cold!')\n",
    "            continue\n",
    "        # Using the continue function is to indicate that the loop goes back to the starting point <br>\n",
    "        # of input entry again"
   ]
  },
  {
   "cell_type": "markdown",
   "metadata": {},
   "source": [
    "#### Write a `while` loop that compares the player's guess to our number. If the player guesses correctly, break from the loop. Otherwise, tell the player if they're warmer or colder, and continue asking for guesses.\n",
    "\n",
    "Some hints:\n",
    "* it may help to sketch out all possible combinations on paper first!\n",
    "* you can use the `abs()` function to find the positive difference between two numbers\n",
    "* if you append all new guesses to the list, then the previous guess is given as `guesses[-2]`"
   ]
  },
  {
   "cell_type": "markdown",
   "metadata": {},
   "source": [
    "That's it! You've just programmed your first game!\n",
    "\n",
    "In the next section we'll learn how to turn some of these repetitive actions into *functions* that can be called whenever we need them."
   ]
  },
  {
   "cell_type": "markdown",
   "metadata": {},
   "source": [
    "### Good Job!"
   ]
  }
 ],
 "metadata": {
  "kernelspec": {
   "display_name": "Python 3",
   "language": "python",
   "name": "python3"
  },
  "language_info": {
   "codemirror_mode": {
    "name": "ipython",
    "version": 3
   },
   "file_extension": ".py",
   "mimetype": "text/x-python",
   "name": "python",
   "nbconvert_exporter": "python",
   "pygments_lexer": "ipython3",
   "version": "3.7.6"
  }
 },
 "nbformat": 4,
 "nbformat_minor": 2
}
