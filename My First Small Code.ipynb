{
 "cells": [
  {
   "cell_type": "code",
   "execution_count": 2,
   "metadata": {},
   "outputs": [],
   "source": [
    "# Expanding the above to create a conversion table and print conversions using zip and input\n",
    "celsius = list(range(0,100))\n",
    "fahrenheit = [(9/5)*temp+32 for temp in celsius]\n",
    "\n",
    "master = list(zip(celsius,fahrenheit))\n",
    "# Generates a list with tuple combinations of Celsius and linked Fahrenheit data; this will work only for integer celsius inputs"
   ]
  },
  {
   "cell_type": "code",
   "execution_count": 3,
   "metadata": {
    "scrolled": true
   },
   "outputs": [
    {
     "name": "stdout",
     "output_type": "stream",
     "text": [
      "Enter the temp in celsius: 59\n"
     ]
    }
   ],
   "source": [
    "c=input('Enter the temp in celsius: ')"
   ]
  },
  {
   "cell_type": "code",
   "execution_count": 4,
   "metadata": {},
   "outputs": [
    {
     "name": "stdout",
     "output_type": "stream",
     "text": [
      "The fahrenheit scale is 138.20\n"
     ]
    }
   ],
   "source": [
    "# Using the tuple unpacking logic and decimal formatting\n",
    "for i,v in master:\n",
    "    if i==int(c):\n",
    "        print(f'The fahrenheit scale is {v:1.2f}')"
   ]
  }
 ],
 "metadata": {
  "kernelspec": {
   "display_name": "Python 3",
   "language": "python",
   "name": "python3"
  },
  "language_info": {
   "codemirror_mode": {
    "name": "ipython",
    "version": 3
   },
   "file_extension": ".py",
   "mimetype": "text/x-python",
   "name": "python",
   "nbconvert_exporter": "python",
   "pygments_lexer": "ipython3",
   "version": "3.7.6"
  }
 },
 "nbformat": 4,
 "nbformat_minor": 4
}
