{
  "nbformat": 4,
  "nbformat_minor": 0,
  "metadata": {
    "colab": {
      "name": "Numpy Arrays.ipynb",
      "provenance": [],
      "authorship_tag": "ABX9TyOXh46bYel4hQ2+d+BryM3a",
      "include_colab_link": true
    },
    "kernelspec": {
      "name": "python3",
      "display_name": "Python 3"
    }
  },
  "cells": [
    {
      "cell_type": "markdown",
      "metadata": {
        "id": "view-in-github",
        "colab_type": "text"
      },
      "source": [
        "<a href=\"https://colab.research.google.com/github/nilotpalc/Python-Training/blob/master/Numpy_Arrays.ipynb\" target=\"_parent\"><img src=\"https://colab.research.google.com/assets/colab-badge.svg\" alt=\"Open In Colab\"/></a>"
      ]
    },
    {
      "cell_type": "code",
      "metadata": {
        "id": "TXs3Q_cRcasY",
        "colab_type": "code",
        "outputId": "1e5c710b-3c5c-4049-8b3e-bc8aaf8ae22d",
        "colab": {
          "base_uri": "https://localhost:8080/",
          "height": 34
        }
      },
      "source": [
        "import numpy as np\n",
        "np.array([1,2,3])"
      ],
      "execution_count": 42,
      "outputs": [
        {
          "output_type": "execute_result",
          "data": {
            "text/plain": [
              "array([1, 2, 3])"
            ]
          },
          "metadata": {
            "tags": []
          },
          "execution_count": 42
        }
      ]
    },
    {
      "cell_type": "code",
      "metadata": {
        "id": "-0s7Q31VdSdk",
        "colab_type": "code",
        "outputId": "806050f8-8e17-495a-ba3f-793cdd8c7a69",
        "colab": {
          "base_uri": "https://localhost:8080/",
          "height": 52
        }
      },
      "source": [
        "np.array([[1,2,3],[4,5,6]])\n",
        "# no of brackets in the array indicate if it is 1D = 1 brac or 2D = 2 brac arrays"
      ],
      "execution_count": 43,
      "outputs": [
        {
          "output_type": "execute_result",
          "data": {
            "text/plain": [
              "array([[1, 2, 3],\n",
              "       [4, 5, 6]])"
            ]
          },
          "metadata": {
            "tags": []
          },
          "execution_count": 43
        }
      ]
    },
    {
      "cell_type": "code",
      "metadata": {
        "id": "72XXDrD3MVvx",
        "colab_type": "code",
        "outputId": "163d56f0-de34-4669-d152-03939d2bf338",
        "colab": {
          "base_uri": "https://localhost:8080/",
          "height": 34
        }
      },
      "source": [
        "# this only works for zeros and ones ONLY\n",
        "np.zeros(3)"
      ],
      "execution_count": 44,
      "outputs": [
        {
          "output_type": "execute_result",
          "data": {
            "text/plain": [
              "array([0., 0., 0.])"
            ]
          },
          "metadata": {
            "tags": []
          },
          "execution_count": 44
        }
      ]
    },
    {
      "cell_type": "code",
      "metadata": {
        "id": "qpnotdy-OIVK",
        "colab_type": "code",
        "outputId": "e63f714c-4867-4764-81f9-ac5de427c923",
        "colab": {
          "base_uri": "https://localhost:8080/",
          "height": 70
        }
      },
      "source": [
        "# this can be used to create a matrix for zeros and ones ONLY\n",
        "np.ones((3,4))"
      ],
      "execution_count": 45,
      "outputs": [
        {
          "output_type": "execute_result",
          "data": {
            "text/plain": [
              "array([[1., 1., 1., 1.],\n",
              "       [1., 1., 1., 1.],\n",
              "       [1., 1., 1., 1.]])"
            ]
          },
          "metadata": {
            "tags": []
          },
          "execution_count": 45
        }
      ]
    },
    {
      "cell_type": "code",
      "metadata": {
        "id": "jYCxewsOAGEY",
        "colab_type": "code",
        "colab": {
          "base_uri": "https://localhost:8080/",
          "height": 34
        },
        "outputId": "7904c2dc-a308-4a30-bef3-96b3ed234507"
      },
      "source": [
        "np.arange(5,20,2)"
      ],
      "execution_count": 46,
      "outputs": [
        {
          "output_type": "execute_result",
          "data": {
            "text/plain": [
              "array([ 5,  7,  9, 11, 13, 15, 17, 19])"
            ]
          },
          "metadata": {
            "tags": []
          },
          "execution_count": 46
        }
      ]
    },
    {
      "cell_type": "code",
      "metadata": {
        "id": "NzCWqlzKAlGl",
        "colab_type": "code",
        "colab": {
          "base_uri": "https://localhost:8080/",
          "height": 34
        },
        "outputId": "486ab4ed-59b1-44cd-edbc-0a97f07ae95e"
      },
      "source": [
        "np.linspace(5,20,7)"
      ],
      "execution_count": 47,
      "outputs": [
        {
          "output_type": "execute_result",
          "data": {
            "text/plain": [
              "array([ 5. ,  7.5, 10. , 12.5, 15. , 17.5, 20. ])"
            ]
          },
          "metadata": {
            "tags": []
          },
          "execution_count": 47
        }
      ]
    },
    {
      "cell_type": "code",
      "metadata": {
        "id": "ebhku4ApB-Qb",
        "colab_type": "code",
        "colab": {
          "base_uri": "https://localhost:8080/",
          "height": 34
        },
        "outputId": "1b69aa5e-a5e4-411d-ab69-e8cd833d250a"
      },
      "source": [
        "np.linspace(5,20,7,dtype = int)"
      ],
      "execution_count": 48,
      "outputs": [
        {
          "output_type": "execute_result",
          "data": {
            "text/plain": [
              "array([ 5,  7, 10, 12, 15, 17, 20])"
            ]
          },
          "metadata": {
            "tags": []
          },
          "execution_count": 48
        }
      ]
    },
    {
      "cell_type": "code",
      "metadata": {
        "id": "nUc2vbAaDPVW",
        "colab_type": "code",
        "colab": {
          "base_uri": "https://localhost:8080/",
          "height": 70
        },
        "outputId": "00844553-308d-4575-ede0-ca1c1648b358"
      },
      "source": [
        "np.eye(3) # generating an Identity Matrix"
      ],
      "execution_count": 49,
      "outputs": [
        {
          "output_type": "execute_result",
          "data": {
            "text/plain": [
              "array([[1., 0., 0.],\n",
              "       [0., 1., 0.],\n",
              "       [0., 0., 1.]])"
            ]
          },
          "metadata": {
            "tags": []
          },
          "execution_count": 49
        }
      ]
    },
    {
      "cell_type": "code",
      "metadata": {
        "id": "W_uhm5PKVVpk",
        "colab_type": "code",
        "outputId": "5f0ee993-b74f-4921-ed99-d5d4dd4dbbed",
        "colab": {
          "base_uri": "https://localhost:8080/",
          "height": 194
        }
      },
      "source": [
        "import numpy as np\n",
        "from numpy.random import rand\n",
        "rand(10,2)\n"
      ],
      "execution_count": 50,
      "outputs": [
        {
          "output_type": "execute_result",
          "data": {
            "text/plain": [
              "array([[0.19169842, 0.58421014],\n",
              "       [0.77251986, 0.89354181],\n",
              "       [0.75924951, 0.29819908],\n",
              "       [0.92704481, 0.56202446],\n",
              "       [0.16272807, 0.01178487],\n",
              "       [0.68871945, 0.72390886],\n",
              "       [0.51091002, 0.27750607],\n",
              "       [0.76493144, 0.67774574],\n",
              "       [0.71803575, 0.79017193],\n",
              "       [0.96361356, 0.22728499]])"
            ]
          },
          "metadata": {
            "tags": []
          },
          "execution_count": 50
        }
      ]
    },
    {
      "cell_type": "code",
      "metadata": {
        "id": "UXMGIlcMWHE2",
        "colab_type": "code",
        "colab": {
          "base_uri": "https://localhost:8080/",
          "height": 105
        },
        "outputId": "8ffe7369-24e2-4895-9dfd-85bbd96c8798"
      },
      "source": [
        "import numpy as np\n",
        "np.random.rand(5,3) # values are between 0 and 1"
      ],
      "execution_count": 51,
      "outputs": [
        {
          "output_type": "execute_result",
          "data": {
            "text/plain": [
              "array([[0.31296605, 0.47746926, 0.08201529],\n",
              "       [0.25170214, 0.70802855, 0.36111574],\n",
              "       [0.63299147, 0.68057222, 0.20718086],\n",
              "       [0.60168302, 0.71393914, 0.72226151],\n",
              "       [0.38308454, 0.28636751, 0.19947022]])"
            ]
          },
          "metadata": {
            "tags": []
          },
          "execution_count": 51
        }
      ]
    },
    {
      "cell_type": "code",
      "metadata": {
        "id": "KLel8IFQDma2",
        "colab_type": "code",
        "colab": {
          "base_uri": "https://localhost:8080/",
          "height": 70
        },
        "outputId": "8b39351c-4ff4-4f46-b124-c476c973c60f"
      },
      "source": [
        "np.random.randn(3,4) # uses a standard normal distribution with mean Zero and standard deviation 1"
      ],
      "execution_count": 52,
      "outputs": [
        {
          "output_type": "execute_result",
          "data": {
            "text/plain": [
              "array([[-0.85557762, -1.79205852, -2.50182793,  1.2180682 ],\n",
              "       [-0.71471995,  0.81568707,  1.8325877 , -1.28872163],\n",
              "       [ 1.10553562,  1.11486806, -0.220363  ,  0.35887542]])"
            ]
          },
          "metadata": {
            "tags": []
          },
          "execution_count": 52
        }
      ]
    },
    {
      "cell_type": "code",
      "metadata": {
        "id": "ZJMQXXIUFy97",
        "colab_type": "code",
        "colab": {
          "base_uri": "https://localhost:8080/",
          "height": 34
        },
        "outputId": "8e11f53c-12d8-474d-d1d1-9e12f9f300ae"
      },
      "source": [
        "np.random.randint(3,10,5) # generates values between 3 and upto 9."
      ],
      "execution_count": 53,
      "outputs": [
        {
          "output_type": "execute_result",
          "data": {
            "text/plain": [
              "array([6, 7, 4, 8, 3])"
            ]
          },
          "metadata": {
            "tags": []
          },
          "execution_count": 53
        }
      ]
    },
    {
      "cell_type": "code",
      "metadata": {
        "id": "6ND_jjcpWgdC",
        "colab_type": "code",
        "colab": {
          "base_uri": "https://localhost:8080/",
          "height": 87
        },
        "outputId": "2b6cb42e-58f8-486c-a22b-634ffd8b55ad"
      },
      "source": [
        "np.random.randint(3,50,(4,6)) # array shape can be specified as a tuple in the argument"
      ],
      "execution_count": 54,
      "outputs": [
        {
          "output_type": "execute_result",
          "data": {
            "text/plain": [
              "array([[25, 18, 28, 23, 30,  6],\n",
              "       [32, 30, 42, 38, 12, 48],\n",
              "       [26, 26, 47, 32, 39, 25],\n",
              "       [ 7,  9, 24, 10,  3,  6]])"
            ]
          },
          "metadata": {
            "tags": []
          },
          "execution_count": 54
        }
      ]
    },
    {
      "cell_type": "code",
      "metadata": {
        "id": "t_J8d-kgMQgC",
        "colab_type": "code",
        "colab": {
          "base_uri": "https://localhost:8080/",
          "height": 52
        },
        "outputId": "9436d7d5-9da8-4c0a-9aee-59a3f263e941"
      },
      "source": [
        "arr = np.random.randint(1,50,24)\n",
        "arr"
      ],
      "execution_count": 55,
      "outputs": [
        {
          "output_type": "execute_result",
          "data": {
            "text/plain": [
              "array([27, 10, 10, 43, 47, 10, 23, 39, 26, 16, 40, 34,  7, 42, 39,  7, 43,\n",
              "       44,  1,  1, 41, 19, 32, 14])"
            ]
          },
          "metadata": {
            "tags": []
          },
          "execution_count": 55
        }
      ]
    },
    {
      "cell_type": "code",
      "metadata": {
        "id": "JM9pZwhuMeCk",
        "colab_type": "code",
        "colab": {
          "base_uri": "https://localhost:8080/",
          "height": 34
        },
        "outputId": "589baa39-6971-4902-c6e7-740c47bcdcc5"
      },
      "source": [
        "arr.shape # shape indicates the array design"
      ],
      "execution_count": 56,
      "outputs": [
        {
          "output_type": "execute_result",
          "data": {
            "text/plain": [
              "(24,)"
            ]
          },
          "metadata": {
            "tags": []
          },
          "execution_count": 56
        }
      ]
    },
    {
      "cell_type": "code",
      "metadata": {
        "id": "_sa_mViLMfxx",
        "colab_type": "code",
        "colab": {
          "base_uri": "https://localhost:8080/",
          "height": 87
        },
        "outputId": "bcf58bc4-df84-48ac-e31c-91c38fee9f08"
      },
      "source": [
        "arr2 = arr.reshape(4,6)\n",
        "arr2"
      ],
      "execution_count": 57,
      "outputs": [
        {
          "output_type": "execute_result",
          "data": {
            "text/plain": [
              "array([[27, 10, 10, 43, 47, 10],\n",
              "       [23, 39, 26, 16, 40, 34],\n",
              "       [ 7, 42, 39,  7, 43, 44],\n",
              "       [ 1,  1, 41, 19, 32, 14]])"
            ]
          },
          "metadata": {
            "tags": []
          },
          "execution_count": 57
        }
      ]
    },
    {
      "cell_type": "code",
      "metadata": {
        "id": "fh6DlKMWPUIC",
        "colab_type": "code",
        "colab": {
          "base_uri": "https://localhost:8080/",
          "height": 34
        },
        "outputId": "89a96762-5af9-4f40-803b-a8e3c9789350"
      },
      "source": [
        "arr2.shape"
      ],
      "execution_count": 58,
      "outputs": [
        {
          "output_type": "execute_result",
          "data": {
            "text/plain": [
              "(4, 6)"
            ]
          },
          "metadata": {
            "tags": []
          },
          "execution_count": 58
        }
      ]
    },
    {
      "cell_type": "code",
      "metadata": {
        "id": "F5X2TDumSfSg",
        "colab_type": "code",
        "colab": {
          "base_uri": "https://localhost:8080/",
          "height": 70
        },
        "outputId": "ef7ca4af-5c49-4a6a-d1e8-f98236eece58"
      },
      "source": [
        "arr2.reshape(3,8)"
      ],
      "execution_count": 59,
      "outputs": [
        {
          "output_type": "execute_result",
          "data": {
            "text/plain": [
              "array([[27, 10, 10, 43, 47, 10, 23, 39],\n",
              "       [26, 16, 40, 34,  7, 42, 39,  7],\n",
              "       [43, 44,  1,  1, 41, 19, 32, 14]])"
            ]
          },
          "metadata": {
            "tags": []
          },
          "execution_count": 59
        }
      ]
    },
    {
      "cell_type": "code",
      "metadata": {
        "id": "7DqnGp7XWz5P",
        "colab_type": "code",
        "colab": {
          "base_uri": "https://localhost:8080/",
          "height": 34
        },
        "outputId": "c31c2f16-004f-4c50-a539-76c82a938e92"
      },
      "source": [
        "arr2.max()"
      ],
      "execution_count": 60,
      "outputs": [
        {
          "output_type": "execute_result",
          "data": {
            "text/plain": [
              "47"
            ]
          },
          "metadata": {
            "tags": []
          },
          "execution_count": 60
        }
      ]
    },
    {
      "cell_type": "code",
      "metadata": {
        "id": "vGERuLzmPZNK",
        "colab_type": "code",
        "colab": {
          "base_uri": "https://localhost:8080/",
          "height": 34
        },
        "outputId": "fa84a905-91e0-4a7e-d491-d61bd9b874ee"
      },
      "source": [
        "arr2.argmax() # gives the position of the max number "
      ],
      "execution_count": 61,
      "outputs": [
        {
          "output_type": "execute_result",
          "data": {
            "text/plain": [
              "4"
            ]
          },
          "metadata": {
            "tags": []
          },
          "execution_count": 61
        }
      ]
    }
  ]
}